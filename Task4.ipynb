{
  "metadata": {
    "kernelspec": {
      "language": "python",
      "display_name": "Python 3",
      "name": "python3"
    },
    "language_info": {
      "name": "python",
      "version": "3.11.11",
      "mimetype": "text/x-python",
      "codemirror_mode": {
        "name": "ipython",
        "version": 3
      },
      "pygments_lexer": "ipython3",
      "nbconvert_exporter": "python",
      "file_extension": ".py"
    },
    "kaggle": {
      "accelerator": "nvidiaTeslaT4",
      "dataSources": [
        {
          "sourceId": 61155,
          "sourceType": "datasetVersion",
          "datasetId": 39466
        }
      ],
      "dockerImageVersionId": 31041,
      "isInternetEnabled": true,
      "language": "python",
      "sourceType": "notebook",
      "isGpuEnabled": true
    },
    "colab": {
      "provenance": []
    }
  },
  "nbformat_minor": 0,
  "nbformat": 4,
  "cells": [
    {
      "source": [
        "# IMPORTANT: RUN THIS CELL IN ORDER TO IMPORT YOUR KAGGLE DATA SOURCES,\n",
        "# THEN FEEL FREE TO DELETE THIS CELL.\n",
        "# NOTE: THIS NOTEBOOK ENVIRONMENT DIFFERS FROM KAGGLE'S PYTHON\n",
        "# ENVIRONMENT SO THERE MAY BE MISSING LIBRARIES USED BY YOUR\n",
        "# NOTEBOOK.\n",
        "import kagglehub\n",
        "gti_upm_leapgestrecog_path = kagglehub.dataset_download('gti-upm/leapgestrecog')\n",
        "\n",
        "print('Data source import complete.')\n"
      ],
      "metadata": {
        "id": "Fpq68dyq5VMm",
        "colab": {
          "base_uri": "https://localhost:8080/"
        },
        "outputId": "2cdf4d96-80bb-4475-d0ef-12e8304a521f"
      },
      "cell_type": "code",
      "outputs": [
        {
          "output_type": "stream",
          "name": "stdout",
          "text": [
            "Downloading from https://www.kaggle.com/api/v1/datasets/download/gti-upm/leapgestrecog?dataset_version_number=1...\n"
          ]
        },
        {
          "output_type": "stream",
          "name": "stderr",
          "text": [
            "100%|██████████| 2.13G/2.13G [00:54<00:00, 41.6MB/s]"
          ]
        },
        {
          "output_type": "stream",
          "name": "stdout",
          "text": [
            "Extracting files...\n"
          ]
        },
        {
          "output_type": "stream",
          "name": "stderr",
          "text": [
            "\n"
          ]
        },
        {
          "output_type": "stream",
          "name": "stdout",
          "text": [
            "Data source import complete.\n"
          ]
        }
      ],
      "execution_count": 1
    },
    {
      "cell_type": "markdown",
      "source": [],
      "metadata": {
        "id": "xqEAZTboUMiz"
      }
    },
    {
      "cell_type": "code",
      "source": [
        "# Import libraries\n",
        "import numpy as np # We'll be storing our data as numpy arrays\n",
        "import os # For handling directories\n",
        "from PIL import Image # For handling the images\n",
        "import matplotlib.pyplot as plt\n",
        "import matplotlib.image as mpimg # Plotting"
      ],
      "metadata": {
        "_uuid": "8f2839f25d086af736a60e9eeb907d3b93b6e0e5",
        "_cell_guid": "b1076dfc-b9ad-4769-8c92-a6c4dae69d19",
        "trusted": true,
        "execution": {
          "iopub.status.busy": "2025-06-18T11:34:07.5057Z",
          "iopub.execute_input": "2025-06-18T11:34:07.506332Z",
          "iopub.status.idle": "2025-06-18T11:34:07.513216Z",
          "shell.execute_reply.started": "2025-06-18T11:34:07.506303Z",
          "shell.execute_reply": "2025-06-18T11:34:07.512224Z"
        },
        "id": "5gAoCX125VMp"
      },
      "outputs": [],
      "execution_count": 2
    },
    {
      "cell_type": "code",
      "source": [
        "lookup = dict()\n",
        "reverselookup = dict()\n",
        "count = 0\n",
        "for j in os.listdir('../input/leapgestrecog/leapGestRecog/00/'):\n",
        "    if not j.startswith('.'): # If running this code locally, this is to\n",
        "                              # ensure you aren't reading in hidden folders\n",
        "        lookup[j] = count\n",
        "        reverselookup[count] = j\n",
        "        count = count + 1\n",
        "lookup"
      ],
      "metadata": {
        "trusted": true,
        "execution": {
          "iopub.status.busy": "2025-06-18T11:34:07.513957Z",
          "iopub.execute_input": "2025-06-18T11:34:07.514217Z",
          "iopub.status.idle": "2025-06-18T11:34:07.540498Z",
          "shell.execute_reply.started": "2025-06-18T11:34:07.514193Z",
          "shell.execute_reply": "2025-06-18T11:34:07.539826Z"
        },
        "id": "DhGPuaG45VMq",
        "colab": {
          "base_uri": "https://localhost:8080/",
          "height": 211
        },
        "outputId": "f1db0f16-645b-4539-e828-7569c29f844d"
      },
      "outputs": [
        {
          "output_type": "error",
          "ename": "FileNotFoundError",
          "evalue": "[Errno 2] No such file or directory: '../input/leapgestrecog/leapGestRecog/00/'",
          "traceback": [
            "\u001b[0;31m---------------------------------------------------------------------------\u001b[0m",
            "\u001b[0;31mFileNotFoundError\u001b[0m                         Traceback (most recent call last)",
            "\u001b[0;32m/tmp/ipython-input-3-1755707420.py\u001b[0m in \u001b[0;36m<cell line: 0>\u001b[0;34m()\u001b[0m\n\u001b[1;32m      2\u001b[0m \u001b[0mreverselookup\u001b[0m \u001b[0;34m=\u001b[0m \u001b[0mdict\u001b[0m\u001b[0;34m(\u001b[0m\u001b[0;34m)\u001b[0m\u001b[0;34m\u001b[0m\u001b[0;34m\u001b[0m\u001b[0m\n\u001b[1;32m      3\u001b[0m \u001b[0mcount\u001b[0m \u001b[0;34m=\u001b[0m \u001b[0;36m0\u001b[0m\u001b[0;34m\u001b[0m\u001b[0;34m\u001b[0m\u001b[0m\n\u001b[0;32m----> 4\u001b[0;31m \u001b[0;32mfor\u001b[0m \u001b[0mj\u001b[0m \u001b[0;32min\u001b[0m \u001b[0mos\u001b[0m\u001b[0;34m.\u001b[0m\u001b[0mlistdir\u001b[0m\u001b[0;34m(\u001b[0m\u001b[0;34m'../input/leapgestrecog/leapGestRecog/00/'\u001b[0m\u001b[0;34m)\u001b[0m\u001b[0;34m:\u001b[0m\u001b[0;34m\u001b[0m\u001b[0;34m\u001b[0m\u001b[0m\n\u001b[0m\u001b[1;32m      5\u001b[0m     \u001b[0;32mif\u001b[0m \u001b[0;32mnot\u001b[0m \u001b[0mj\u001b[0m\u001b[0;34m.\u001b[0m\u001b[0mstartswith\u001b[0m\u001b[0;34m(\u001b[0m\u001b[0;34m'.'\u001b[0m\u001b[0;34m)\u001b[0m\u001b[0;34m:\u001b[0m \u001b[0;31m# If running this code locally, this is to\u001b[0m\u001b[0;34m\u001b[0m\u001b[0;34m\u001b[0m\u001b[0m\n\u001b[1;32m      6\u001b[0m                               \u001b[0;31m# ensure you aren't reading in hidden folders\u001b[0m\u001b[0;34m\u001b[0m\u001b[0;34m\u001b[0m\u001b[0m\n",
            "\u001b[0;31mFileNotFoundError\u001b[0m: [Errno 2] No such file or directory: '../input/leapgestrecog/leapGestRecog/00/'"
          ]
        }
      ],
      "execution_count": 3
    },
    {
      "cell_type": "code",
      "source": [
        "from google.colab import drive\n",
        "drive.mount('/content/drive')"
      ],
      "metadata": {
        "id": "_LOGW95W6tGk"
      },
      "execution_count": null,
      "outputs": []
    },
    {
      "cell_type": "code",
      "source": [
        "x_data = []\n",
        "y_data = []\n",
        "datacount = 0 # We'll use this to tally how many images are in our dataset\n",
        "for i in range(0, 10): # Loop over the ten top-level folders\n",
        "    for j in os.listdir('../input/leapgestrecog/leapGestRecog/0' + str(i) + '/'):\n",
        "        if not j.startswith('.'): # Again avoid hidden folders\n",
        "            count = 0 # To tally images of a given gesture\n",
        "            for k in os.listdir('../input/leapgestrecog/leapGestRecog/0' +\n",
        "                                str(i) + '/' + j + '/'):\n",
        "                                # Loop over the images\n",
        "                img = Image.open('../input/leapgestrecog/leapGestRecog/0' +\n",
        "                                 str(i) + '/' + j + '/' + k).convert('L')\n",
        "                                # Read in and convert to greyscale\n",
        "                img = img.resize((320, 120))\n",
        "                arr = np.array(img)\n",
        "                x_data.append(arr)\n",
        "                count = count + 1\n",
        "            y_values = np.full((count, 1), lookup[j])\n",
        "            y_data.append(y_values)\n",
        "            datacount = datacount + count\n",
        "x_data = np.array(x_data, dtype = 'float32')\n",
        "y_data = np.array(y_data)\n",
        "y_data = y_data.reshape(datacount, 1) # Reshape to be the correct size"
      ],
      "metadata": {
        "trusted": true,
        "execution": {
          "iopub.status.busy": "2025-06-18T11:34:07.541894Z",
          "iopub.execute_input": "2025-06-18T11:34:07.542085Z",
          "iopub.status.idle": "2025-06-18T11:36:04.536122Z",
          "shell.execute_reply.started": "2025-06-18T11:34:07.542069Z",
          "shell.execute_reply": "2025-06-18T11:36:04.535334Z"
        },
        "id": "MXj2GyMf5VMr"
      },
      "outputs": [],
      "execution_count": null
    },
    {
      "cell_type": "code",
      "source": [
        "from random import randint\n",
        "for i in range(0, 10):\n",
        "    plt.imshow(x_data[i*200 , :, :])\n",
        "    plt.title(reverselookup[y_data[i*200 ,0]])\n",
        "    plt.show()"
      ],
      "metadata": {
        "trusted": true,
        "execution": {
          "iopub.status.busy": "2025-06-18T11:36:04.536956Z",
          "iopub.execute_input": "2025-06-18T11:36:04.537137Z",
          "iopub.status.idle": "2025-06-18T11:36:05.967011Z",
          "shell.execute_reply.started": "2025-06-18T11:36:04.537122Z",
          "shell.execute_reply": "2025-06-18T11:36:05.966416Z"
        },
        "id": "dTqsJLZ45VMr"
      },
      "outputs": [],
      "execution_count": null
    },
    {
      "cell_type": "code",
      "source": [
        "import keras\n",
        "from keras.utils import to_categorical\n",
        "y_data = to_categorical(y_data)\n",
        "\n",
        "x_data = x_data.reshape((datacount, 120, 320, 1))\n",
        "x_data /= 255\n",
        "\n",
        "from sklearn.model_selection import train_test_split\n",
        "x_train,x_further,y_train,y_further = train_test_split(x_data,y_data,test_size = 0.2)\n",
        "x_validate,x_test,y_validate,y_test = train_test_split(x_further,y_further,test_size = 0.5)"
      ],
      "metadata": {
        "trusted": true,
        "execution": {
          "iopub.status.busy": "2025-06-18T11:36:05.967887Z",
          "iopub.execute_input": "2025-06-18T11:36:05.968158Z",
          "iopub.status.idle": "2025-06-18T11:36:21.982754Z",
          "shell.execute_reply.started": "2025-06-18T11:36:05.968132Z",
          "shell.execute_reply": "2025-06-18T11:36:21.98216Z"
        },
        "id": "AXRaEmR15VMs"
      },
      "outputs": [],
      "execution_count": null
    },
    {
      "cell_type": "code",
      "source": [
        "from keras import layers\n",
        "from keras import models\n",
        "\n",
        "model=models.Sequential()\n",
        "model.add(layers.Conv2D(32, (5, 5), strides=(2, 2), activation='relu', input_shape=(120, 320,1)))\n",
        "model.add(layers.MaxPooling2D((2, 2)))\n",
        "model.add(layers.Conv2D(64, (3, 3), activation='relu'))\n",
        "model.add(layers.MaxPooling2D((2, 2)))\n",
        "model.add(layers.Conv2D(64, (3, 3), activation='relu'))\n",
        "model.add(layers.MaxPooling2D((2, 2)))\n",
        "model.add(layers.Flatten())\n",
        "model.add(layers.Dense(128, activation='relu'))\n",
        "model.add(layers.Dense(10, activation='softmax'))\n",
        "\n",
        "model.compile(optimizer='rmsprop',\n",
        "              loss='categorical_crossentropy',\n",
        "              metrics=['accuracy'])\n",
        "model.fit(x_train, y_train, epochs=5, batch_size=64, verbose=1, validation_data=(x_validate, y_validate))"
      ],
      "metadata": {
        "trusted": true,
        "execution": {
          "iopub.status.busy": "2025-06-18T11:36:21.983588Z",
          "iopub.execute_input": "2025-06-18T11:36:21.984217Z",
          "iopub.status.idle": "2025-06-18T11:36:59.770056Z",
          "shell.execute_reply.started": "2025-06-18T11:36:21.98417Z",
          "shell.execute_reply": "2025-06-18T11:36:59.769453Z"
        },
        "id": "Wpp6QiEY5VMs"
      },
      "outputs": [],
      "execution_count": null
    },
    {
      "cell_type": "code",
      "source": [
        "[loss, acc] = model.evaluate(x_test,y_test,verbose=1)\n",
        "print(\"Accuracy:\" + str(acc))"
      ],
      "metadata": {
        "trusted": true,
        "execution": {
          "iopub.status.busy": "2025-06-18T11:36:59.770697Z",
          "iopub.execute_input": "2025-06-18T11:36:59.770897Z",
          "iopub.status.idle": "2025-06-18T11:37:01.460906Z",
          "shell.execute_reply.started": "2025-06-18T11:36:59.770881Z",
          "shell.execute_reply": "2025-06-18T11:37:01.460347Z"
        },
        "id": "bPWY6_KK5VMs"
      },
      "outputs": [],
      "execution_count": null
    }
  ]
}